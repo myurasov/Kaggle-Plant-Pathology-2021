{
 "cells": [
  {
   "cell_type": "code",
   "execution_count": 1,
   "metadata": {},
   "outputs": [],
   "source": [
    "import matplotlib.pyplot as plt\n",
    "import numpy as np\n",
    "from tensorflow import keras\n",
    "\n",
    "from src.config import c as gc\n",
    "from src.generator import Generator"
   ]
  },
  {
   "cell_type": "code",
   "execution_count": 2,
   "metadata": {},
   "outputs": [],
   "source": [
    "BATCH = 64\n",
    "IMAGE_SIZE = (224, 224)"
   ]
  },
  {
   "cell_type": "code",
   "execution_count": 3,
   "metadata": {},
   "outputs": [],
   "source": [
    "gen = Generator(\n",
    "    csv_file=f\"{gc['DATA_DIR']}/src/train.csv\",\n",
    "    images_src_dir=f\"{gc['DATA_DIR']}/src/train_images\",\n",
    "    batch_size=BATCH,\n",
    "    target_image_size=IMAGE_SIZE,\n",
    "    #cache_dir=None,\n",
    "    cache_dir=gc[\"DATA_DIR\"] + \"/images_cache\",\n",
    "    shuffle=True,\n",
    ")"
   ]
  },
  {
   "cell_type": "code",
   "execution_count": 4,
   "metadata": {},
   "outputs": [],
   "source": [
    "x0, y0 = gen.get_one(0)"
   ]
  },
  {
   "cell_type": "code",
   "execution_count": 5,
   "metadata": {},
   "outputs": [],
   "source": [
    "base_model = keras.applications.ResNet50(\n",
    "    weights=\"imagenet\", include_top=False, input_shape=x0.shape, classes=y0.shape[0]\n",
    ")\n",
    "\n",
    "x = base_model.output\n",
    "x = keras.layers.GlobalAveragePooling2D(name=\"avg_pool\")(x)\n",
    "x = keras.layers.Flatten(name=\"flatten\")(x)\n",
    "x = keras.layers.Dense(y0.shape[0], activation=\"sigmoid\")(x)\n",
    "\n",
    "model = keras.Model(inputs=base_model.inputs, outputs=[x])"
   ]
  },
  {
   "cell_type": "code",
   "execution_count": 6,
   "metadata": {},
   "outputs": [],
   "source": [
    "model.compile(loss='categorical_crossentropy', optimizer='adam')"
   ]
  },
  {
   "cell_type": "code",
   "execution_count": null,
   "metadata": {},
   "outputs": [
    {
     "name": "stdout",
     "output_type": "stream",
     "text": [
      "Epoch 1/10\n"
     ]
    }
   ],
   "source": [
    "model.fit(\n",
    "    x=gen,\n",
    "    epochs=10,\n",
    "    verbose=1,\n",
    "    max_queue_size=10,\n",
    "    workers=20,\n",
    "    use_multiprocessing=True,\n",
    ")"
   ]
  },
  {
   "cell_type": "code",
   "execution_count": null,
   "metadata": {},
   "outputs": [],
   "source": []
  }
 ],
 "metadata": {
  "kernelspec": {
   "display_name": "Python 3",
   "language": "python",
   "name": "python3"
  },
  "language_info": {
   "codemirror_mode": {
    "name": "ipython",
    "version": 3
   },
   "file_extension": ".py",
   "mimetype": "text/x-python",
   "name": "python",
   "nbconvert_exporter": "python",
   "pygments_lexer": "ipython3",
   "version": "3.8.5"
  }
 },
 "nbformat": 4,
 "nbformat_minor": 4
}
