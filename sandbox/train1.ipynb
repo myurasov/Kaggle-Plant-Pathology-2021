{
 "cells": [
  {
   "cell_type": "code",
   "execution_count": 1,
   "metadata": {},
   "outputs": [],
   "source": [
    "import matplotlib.pyplot as plt\n",
    "import numpy as np\n",
    "from tensorflow import keras\n",
    "\n",
    "from src.config import c as gc\n",
    "from src.generator import Generator, default_image_augmenation_options\n",
    "from src.utils import fix_random_seed"
   ]
  },
  {
   "cell_type": "code",
   "execution_count": 2,
   "metadata": {},
   "outputs": [],
   "source": [
    "fix_random_seed()"
   ]
  },
  {
   "cell_type": "code",
   "execution_count": 3,
   "metadata": {},
   "outputs": [],
   "source": [
    "BATCH = 96\n",
    "IMAGE_SIZE = (224, 224)\n",
    "AUGM_OPTS = default_image_augmenation_options\n",
    "# AUGM_OPTS = None\n",
    "CACHE_DIR = gc[\"DATA_DIR\"] + \"/images_cache\"\n",
    "# CACHE_DIR = None"
   ]
  },
  {
   "cell_type": "code",
   "execution_count": 4,
   "metadata": {},
   "outputs": [],
   "source": [
    "gen = Generator(\n",
    "    csv_file=f\"{gc['DATA_DIR']}/src/train.csv\",\n",
    "    images_src_dir=f\"{gc['DATA_DIR']}/src/train_images\",\n",
    "    batch_size=BATCH,\n",
    "    target_image_size=IMAGE_SIZE,\n",
    "    image_augmentation_options=AUGM_OPTS,\n",
    "    cache_dir=CACHE_DIR,\n",
    "    shuffle=True,\n",
    ")"
   ]
  },
  {
   "cell_type": "code",
   "execution_count": 5,
   "metadata": {},
   "outputs": [],
   "source": [
    "x0, y0 = gen.get_one(0)"
   ]
  },
  {
   "cell_type": "code",
   "execution_count": 6,
   "metadata": {},
   "outputs": [],
   "source": [
    "base_model = keras.applications.ResNet50(\n",
    "    weights=\"imagenet\", include_top=False, input_shape=x0.shape, classes=y0.shape[0]\n",
    ")\n",
    "\n",
    "x = base_model.output\n",
    "x = keras.layers.GlobalAveragePooling2D(name=\"avg_pool\")(x)\n",
    "x = keras.layers.Flatten(name=\"flatten\")(x)\n",
    "x = keras.layers.Dense(y0.shape[0], activation=\"sigmoid\")(x)\n",
    "\n",
    "model = keras.Model(inputs=base_model.inputs, outputs=[x])"
   ]
  },
  {
   "cell_type": "code",
   "execution_count": 7,
   "metadata": {},
   "outputs": [],
   "source": [
    "model.compile(loss=\"categorical_crossentropy\", optimizer=\"adam\")"
   ]
  },
  {
   "cell_type": "code",
   "execution_count": null,
   "metadata": {},
   "outputs": [
    {
     "name": "stdout",
     "output_type": "stream",
     "text": [
      "Epoch 1/10\n",
      "WARNING:tensorflow:multiprocessing can interact badly with TensorFlow, causing nondeterministic deadlocks. For high performance data pipelines tf.data is recommended.\n",
      "193/194 [============================>.] - ETA: 0s - loss: 1.0065WARNING:tensorflow:multiprocessing can interact badly with TensorFlow, causing nondeterministic deadlocks. For high performance data pipelines tf.data is recommended.\n",
      "194/194 [==============================] - 79s 407ms/step - loss: 1.0064\n",
      "Epoch 2/10\n",
      "WARNING:tensorflow:multiprocessing can interact badly with TensorFlow, causing nondeterministic deadlocks. For high performance data pipelines tf.data is recommended.\n"
     ]
    },
    {
     "name": "stderr",
     "output_type": "stream",
     "text": [
      "Process Keras_worker_ForkPoolWorker-24:\n",
      "Process Keras_worker_ForkPoolWorker-29:\n",
      "Process Keras_worker_ForkPoolWorker-23:\n",
      "Process Keras_worker_ForkPoolWorker-31:\n",
      "Process Keras_worker_ForkPoolWorker-47:\n",
      "Process Keras_worker_ForkPoolWorker-35:\n",
      "Process Keras_worker_ForkPoolWorker-18:\n",
      "Process Keras_worker_ForkPoolWorker-26:\n",
      "Process Keras_worker_ForkPoolWorker-32:\n",
      "Process Keras_worker_ForkPoolWorker-42:\n",
      "Process Keras_worker_ForkPoolWorker-38:\n",
      "Process Keras_worker_ForkPoolWorker-17:\n",
      "Process Keras_worker_ForkPoolWorker-33:\n",
      "Process Keras_worker_ForkPoolWorker-21:\n",
      "Process Keras_worker_ForkPoolWorker-41:\n",
      "Process Keras_worker_ForkPoolWorker-28:\n",
      "Process Keras_worker_ForkPoolWorker-25:\n",
      "Traceback (most recent call last):\n",
      "Process Keras_worker_ForkPoolWorker-27:\n",
      "Traceback (most recent call last):\n",
      "Process Keras_worker_ForkPoolWorker-19:\n",
      "Process Keras_worker_ForkPoolWorker-43:\n",
      "Process Keras_worker_ForkPoolWorker-48:\n",
      "Traceback (most recent call last):\n",
      "Traceback (most recent call last):\n",
      "Traceback (most recent call last):\n",
      "Process Keras_worker_ForkPoolWorker-34:\n",
      "Traceback (most recent call last):\n",
      "Process Keras_worker_ForkPoolWorker-44:\n",
      "Process Keras_worker_ForkPoolWorker-37:\n",
      "Process Keras_worker_ForkPoolWorker-22:\n",
      "Process Keras_worker_ForkPoolWorker-30:\n",
      "Process Keras_worker_ForkPoolWorker-45:\n",
      "Process Keras_worker_ForkPoolWorker-46:\n",
      "Process Keras_worker_ForkPoolWorker-39:\n",
      "Traceback (most recent call last):\n",
      "Traceback (most recent call last):\n",
      "Traceback (most recent call last):\n",
      "Process Keras_worker_ForkPoolWorker-20:\n",
      "Process Keras_worker_ForkPoolWorker-36:\n",
      "  File \"/usr/lib/python3.8/multiprocessing/process.py\", line 315, in _bootstrap\n",
      "    self.run()\n",
      "Traceback (most recent call last):\n",
      "Traceback (most recent call last):\n",
      "Traceback (most recent call last):\n",
      "Traceback (most recent call last):\n",
      "Traceback (most recent call last):\n",
      "Traceback (most recent call last):\n",
      "  File \"/usr/lib/python3.8/multiprocessing/process.py\", line 315, in _bootstrap\n",
      "    self.run()\n",
      "  File \"/usr/lib/python3.8/multiprocessing/process.py\", line 315, in _bootstrap\n",
      "    self.run()\n",
      "Traceback (most recent call last):\n",
      "  File \"/usr/lib/python3.8/multiprocessing/process.py\", line 315, in _bootstrap\n",
      "    self.run()\n",
      "Traceback (most recent call last):\n",
      "  File \"/usr/lib/python3.8/multiprocessing/process.py\", line 315, in _bootstrap\n",
      "    self.run()\n"
     ]
    }
   ],
   "source": [
    "model.fit(\n",
    "    x=gen,\n",
    "    epochs=10,\n",
    "    verbose=1,\n",
    "    max_queue_size=16,\n",
    "    workers=16,\n",
    "    use_multiprocessing=True,\n",
    ")"
   ]
  }
 ],
 "metadata": {
  "kernelspec": {
   "display_name": "Python 3",
   "language": "python",
   "name": "python3"
  },
  "language_info": {
   "codemirror_mode": {
    "name": "ipython",
    "version": 3
   },
   "file_extension": ".py",
   "mimetype": "text/x-python",
   "name": "python",
   "nbconvert_exporter": "python",
   "pygments_lexer": "ipython3",
   "version": "3.8.5"
  }
 },
 "nbformat": 4,
 "nbformat_minor": 4
}
