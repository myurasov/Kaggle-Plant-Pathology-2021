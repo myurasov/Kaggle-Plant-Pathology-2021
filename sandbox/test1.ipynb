{
 "cells": [
  {
   "cell_type": "code",
   "execution_count": 9,
   "metadata": {},
   "outputs": [],
   "source": [
    "from glob import glob\n",
    "\n",
    "import pandas as pd\n",
    "import numpy as np\n",
    "\n",
    "from src.config import c"
   ]
  },
  {
   "cell_type": "code",
   "execution_count": 10,
   "metadata": {},
   "outputs": [],
   "source": [
    "# convert data to one-hot representation\n",
    "\n",
    "df = pd.read_csv(c[\"DATA_DIR\"] + \"/src/train.csv\", index_col=0)\n",
    "\n",
    "label_ixs = sorted(list(set(\" \".join(set(df.labels)).split(\" \"))))\n",
    "label_ixs = dict([(x, label_ixs.index(x)) for x in label_ixs])\n",
    "\n",
    "labels = {}  # id: 1h\n",
    "\n",
    "for k, v in df.to_dict()[\"labels\"].items():\n",
    "    y = np.zeros((len(label_ixs)), dtype=np.float32)\n",
    "    y[list(map(lambda x: label_ixs[x], v.split(\" \")))] = 1.0\n",
    "    labels[k[:-4]] = y"
   ]
  },
  {
   "cell_type": "code",
   "execution_count": null,
   "metadata": {},
   "outputs": [],
   "source": [
    "labels"
   ]
  },
  {
   "cell_type": "code",
   "execution_count": null,
   "metadata": {},
   "outputs": [],
   "source": []
  }
 ],
 "metadata": {
  "kernelspec": {
   "display_name": "Python 3",
   "language": "python",
   "name": "python3"
  },
  "language_info": {
   "codemirror_mode": {
    "name": "ipython",
    "version": 3
   },
   "file_extension": ".py",
   "mimetype": "text/x-python",
   "name": "python",
   "nbconvert_exporter": "python",
   "pygments_lexer": "ipython3",
   "version": "3.8.5"
  }
 },
 "nbformat": 4,
 "nbformat_minor": 4
}
